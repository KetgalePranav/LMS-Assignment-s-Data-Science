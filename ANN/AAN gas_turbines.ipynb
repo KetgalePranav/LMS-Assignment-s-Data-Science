{
 "cells": [
  {
   "cell_type": "markdown",
   "metadata": {},
   "source": [
    "# ANN \n",
    "## Gas_turbines_data"
   ]
  },
  {
   "cell_type": "code",
   "execution_count": 1,
   "metadata": {},
   "outputs": [
    {
     "name": "stderr",
     "output_type": "stream",
     "text": [
      "C:\\Users\\PRANAV\\Anaconda3\\lib\\site-packages\\statsmodels\\tools\\_testing.py:19: FutureWarning: pandas.util.testing is deprecated. Use the functions in the public API at pandas.testing instead.\n",
      "  import pandas.util.testing as tm\n"
     ]
    }
   ],
   "source": [
    "import pandas as pd\n",
    "import numpy as np\n",
    "import matplotlib.pyplot as plt\n",
    "import seaborn as sns\n",
    "%matplotlib inline"
   ]
  },
  {
   "cell_type": "markdown",
   "metadata": {},
   "source": [
    "### Check out the Data"
   ]
  },
  {
   "cell_type": "code",
   "execution_count": 2,
   "metadata": {},
   "outputs": [
    {
     "data": {
      "text/html": [
       "<div>\n",
       "<style scoped>\n",
       "    .dataframe tbody tr th:only-of-type {\n",
       "        vertical-align: middle;\n",
       "    }\n",
       "\n",
       "    .dataframe tbody tr th {\n",
       "        vertical-align: top;\n",
       "    }\n",
       "\n",
       "    .dataframe thead th {\n",
       "        text-align: right;\n",
       "    }\n",
       "</style>\n",
       "<table border=\"1\" class=\"dataframe\">\n",
       "  <thead>\n",
       "    <tr style=\"text-align: right;\">\n",
       "      <th></th>\n",
       "      <th>AT</th>\n",
       "      <th>AP</th>\n",
       "      <th>AH</th>\n",
       "      <th>AFDP</th>\n",
       "      <th>GTEP</th>\n",
       "      <th>TIT</th>\n",
       "      <th>TAT</th>\n",
       "      <th>TEY</th>\n",
       "      <th>CDP</th>\n",
       "      <th>CO</th>\n",
       "      <th>NOX</th>\n",
       "    </tr>\n",
       "  </thead>\n",
       "  <tbody>\n",
       "    <tr>\n",
       "      <th>0</th>\n",
       "      <td>6.8594</td>\n",
       "      <td>1007.9</td>\n",
       "      <td>96.799</td>\n",
       "      <td>3.5000</td>\n",
       "      <td>19.663</td>\n",
       "      <td>1059.2</td>\n",
       "      <td>550.00</td>\n",
       "      <td>114.70</td>\n",
       "      <td>10.605</td>\n",
       "      <td>3.1547</td>\n",
       "      <td>82.722</td>\n",
       "    </tr>\n",
       "    <tr>\n",
       "      <th>1</th>\n",
       "      <td>6.7850</td>\n",
       "      <td>1008.4</td>\n",
       "      <td>97.118</td>\n",
       "      <td>3.4998</td>\n",
       "      <td>19.728</td>\n",
       "      <td>1059.3</td>\n",
       "      <td>550.00</td>\n",
       "      <td>114.72</td>\n",
       "      <td>10.598</td>\n",
       "      <td>3.2363</td>\n",
       "      <td>82.776</td>\n",
       "    </tr>\n",
       "    <tr>\n",
       "      <th>2</th>\n",
       "      <td>6.8977</td>\n",
       "      <td>1008.8</td>\n",
       "      <td>95.939</td>\n",
       "      <td>3.4824</td>\n",
       "      <td>19.779</td>\n",
       "      <td>1059.4</td>\n",
       "      <td>549.87</td>\n",
       "      <td>114.71</td>\n",
       "      <td>10.601</td>\n",
       "      <td>3.2012</td>\n",
       "      <td>82.468</td>\n",
       "    </tr>\n",
       "    <tr>\n",
       "      <th>3</th>\n",
       "      <td>7.0569</td>\n",
       "      <td>1009.2</td>\n",
       "      <td>95.249</td>\n",
       "      <td>3.4805</td>\n",
       "      <td>19.792</td>\n",
       "      <td>1059.6</td>\n",
       "      <td>549.99</td>\n",
       "      <td>114.72</td>\n",
       "      <td>10.606</td>\n",
       "      <td>3.1923</td>\n",
       "      <td>82.670</td>\n",
       "    </tr>\n",
       "    <tr>\n",
       "      <th>4</th>\n",
       "      <td>7.3978</td>\n",
       "      <td>1009.7</td>\n",
       "      <td>95.150</td>\n",
       "      <td>3.4976</td>\n",
       "      <td>19.765</td>\n",
       "      <td>1059.7</td>\n",
       "      <td>549.98</td>\n",
       "      <td>114.72</td>\n",
       "      <td>10.612</td>\n",
       "      <td>3.2484</td>\n",
       "      <td>82.311</td>\n",
       "    </tr>\n",
       "  </tbody>\n",
       "</table>\n",
       "</div>"
      ],
      "text/plain": [
       "       AT      AP      AH    AFDP    GTEP     TIT     TAT     TEY     CDP  \\\n",
       "0  6.8594  1007.9  96.799  3.5000  19.663  1059.2  550.00  114.70  10.605   \n",
       "1  6.7850  1008.4  97.118  3.4998  19.728  1059.3  550.00  114.72  10.598   \n",
       "2  6.8977  1008.8  95.939  3.4824  19.779  1059.4  549.87  114.71  10.601   \n",
       "3  7.0569  1009.2  95.249  3.4805  19.792  1059.6  549.99  114.72  10.606   \n",
       "4  7.3978  1009.7  95.150  3.4976  19.765  1059.7  549.98  114.72  10.612   \n",
       "\n",
       "       CO     NOX  \n",
       "0  3.1547  82.722  \n",
       "1  3.2363  82.776  \n",
       "2  3.2012  82.468  \n",
       "3  3.1923  82.670  \n",
       "4  3.2484  82.311  "
      ]
     },
     "execution_count": 2,
     "metadata": {},
     "output_type": "execute_result"
    }
   ],
   "source": [
    "df = pd.read_csv(r'C:\\Users\\PRANAV\\Desktop\\lms\\ANN\\gas_turbines.csv')\n",
    "df.head()"
   ]
  },
  {
   "cell_type": "markdown",
   "metadata": {},
   "source": [
    "### EDA"
   ]
  },
  {
   "cell_type": "code",
   "execution_count": 3,
   "metadata": {},
   "outputs": [
    {
     "data": {
      "text/plain": [
       "<matplotlib.axes._subplots.AxesSubplot at 0x29863966388>"
      ]
     },
     "execution_count": 3,
     "metadata": {},
     "output_type": "execute_result"
    },
    {
     "data": {
      "image/png": "[encoded data removed]",
      "text/plain": [
       "<Figure size 432x288 with 2 Axes>"
      ]
     },
     "metadata": {
      "needs_background": "light"
     },
     "output_type": "display_data"
    }
   ],
   "source": [
    "sns.heatmap(df.isnull())"
   ]
  },
  {
   "cell_type": "code",
   "execution_count": 4,
   "metadata": {},
   "outputs": [],
   "source": [
    "X = df.drop('TEY',axis=1).values\n",
    "y = df['TEY'].values"
   ]
  },
  {
   "cell_type": "markdown",
   "metadata": {},
   "source": [
    "### Train Test Split"
   ]
  },
  {
   "cell_type": "code",
   "execution_count": 5,
   "metadata": {},
   "outputs": [],
   "source": [
    "from sklearn.model_selection import train_test_split\n",
    "X_train, X_test, y_train, y_test = train_test_split(X,y,test_size=0.25,random_state=101)"
   ]
  },
  {
   "cell_type": "code",
   "execution_count": 6,
   "metadata": {},
   "outputs": [
    {
     "data": {
      "text/plain": [
       "MinMaxScaler(copy=True, feature_range=(0, 1))"
      ]
     },
     "execution_count": 6,
     "metadata": {},
     "output_type": "execute_result"
    }
   ],
   "source": [
    "from sklearn.preprocessing import MinMaxScaler\n",
    "scaler = MinMaxScaler()\n",
    "scaler.fit(X_train)"
   ]
  },
  {
   "cell_type": "code",
   "execution_count": 7,
   "metadata": {},
   "outputs": [
    {
     "data": {
      "text/plain": [
       "(15039, 10)"
      ]
     },
     "execution_count": 7,
     "metadata": {},
     "output_type": "execute_result"
    }
   ],
   "source": [
    "X_train = scaler.transform(X_train)\n",
    "X_test = scaler.transform(X_test)\n",
    "X.shape"
   ]
  },
  {
   "cell_type": "code",
   "execution_count": 8,
   "metadata": {},
   "outputs": [],
   "source": [
    "from tensorflow.keras.models import Sequential\n",
    "from tensorflow.keras.layers import Dense, Activation"
   ]
  },
  {
   "cell_type": "code",
   "execution_count": 93,
   "metadata": {},
   "outputs": [],
   "source": [
    "model = Sequential()\n",
    "\n",
    "model.add(Dense(10,activation='relu'))\n",
    "model.add(Dense(10,activation='relu'))\n",
    "model.add(Dense(10,activation='relu'))\n",
    "\n",
    "# Final output node for prediction\n",
    "model.add(Dense(1))\n",
    "\n",
    "model.compile(optimizer='rmsprop',loss='mse')"
   ]
  },
  {
   "cell_type": "code",
   "execution_count": 94,
   "metadata": {},
   "outputs": [
    {
     "name": "stdout",
     "output_type": "stream",
     "text": [
      "Epoch 1/250\n",
      "353/353 [==============================] - 0s 591us/step - loss: 14185.4502\n",
      "Epoch 2/250\n",
      "353/353 [==============================] - 0s 709us/step - loss: 1034.8761\n",
      "Epoch 3/250\n",
      "353/353 [==============================] - 0s 686us/step - loss: 27.2057\n",
      "Epoch 4/250\n",
      "353/353 [==============================] - 0s 683us/step - loss: 22.0730\n",
      "Epoch 5/250\n",
      "353/353 [==============================] - 0s 684us/step - loss: 18.8215\n",
      "Epoch 6/250\n",
      "353/353 [==============================] - 0s 756us/step - loss: 16.0464\n",
      "Epoch 7/250\n",
      "353/353 [==============================] - 0s 669us/step - loss: 13.8396\n",
      "Epoch 8/250\n",
      "353/353 [==============================] - 0s 640us/step - loss: 11.9723\n",
      "Epoch 9/250\n",
      "353/353 [==============================] - 0s 650us/step - loss: 10.2290\n",
      "Epoch 10/250\n",
      "353/353 [==============================] - 0s 662us/step - loss: 8.6714\n",
      "Epoch 11/250\n",
      "353/353 [==============================] - 0s 641us/step - loss: 7.3247\n",
      "Epoch 12/250\n",
      "353/353 [==============================] - 0s 637us/step - loss: 6.2259\n",
      "Epoch 13/250\n",
      "353/353 [==============================] - 0s 676us/step - loss: 5.2105\n",
      "Epoch 14/250\n",
      "353/353 [==============================] - 0s 649us/step - loss: 4.3354\n",
      "Epoch 15/250\n",
      "353/353 [==============================] - 0s 670us/step - loss: 3.5865\n",
      "Epoch 16/250\n",
      "353/353 [==============================] - 0s 629us/step - loss: 2.8822\n",
      "Epoch 17/250\n",
      "353/353 [==============================] - 0s 725us/step - loss: 2.3593\n",
      "Epoch 18/250\n",
      "353/353 [==============================] - 0s 824us/step - loss: 1.9552\n",
      "Epoch 19/250\n",
      "353/353 [==============================] - 0s 715us/step - loss: 1.6272\n",
      "Epoch 20/250\n",
      "353/353 [==============================] - 0s 771us/step - loss: 1.4107\n",
      "Epoch 21/250\n",
      "353/353 [==============================] - 0s 821us/step - loss: 1.2580\n",
      "Epoch 22/250\n",
      "353/353 [==============================] - 0s 875us/step - loss: 1.1383\n",
      "Epoch 23/250\n",
      "353/353 [==============================] - 0s 826us/step - loss: 1.0688\n",
      "Epoch 24/250\n",
      "353/353 [==============================] - 0s 741us/step - loss: 1.0087 0s - loss: 1.0\n",
      "Epoch 25/250\n",
      "353/353 [==============================] - 0s 727us/step - loss: 0.9689\n",
      "Epoch 26/250\n",
      "353/353 [==============================] - 0s 664us/step - loss: 0.9412\n",
      "Epoch 27/250\n",
      "353/353 [==============================] - 0s 631us/step - loss: 0.9148\n",
      "Epoch 28/250\n",
      "353/353 [==============================] - 0s 659us/step - loss: 0.9054\n",
      "Epoch 29/250\n",
      "353/353 [==============================] - 0s 647us/step - loss: 0.8901\n",
      "Epoch 30/250\n",
      "353/353 [==============================] - 0s 630us/step - loss: 0.8837\n",
      "Epoch 31/250\n",
      "353/353 [==============================] - 0s 672us/step - loss: 0.8745\n",
      "Epoch 32/250\n",
      "353/353 [==============================] - 0s 635us/step - loss: 0.8612\n",
      "Epoch 33/250\n",
      "353/353 [==============================] - 0s 652us/step - loss: 0.8664\n",
      "Epoch 34/250\n",
      "353/353 [==============================] - 0s 657us/step - loss: 0.8704\n",
      "Epoch 35/250\n",
      "353/353 [==============================] - 0s 631us/step - loss: 0.8610\n",
      "Epoch 36/250\n",
      "353/353 [==============================] - 0s 651us/step - loss: 0.8572\n",
      "Epoch 37/250\n",
      "353/353 [==============================] - 0s 647us/step - loss: 0.8289\n",
      "Epoch 38/250\n",
      "353/353 [==============================] - 0s 649us/step - loss: 0.8484\n",
      "Epoch 39/250\n",
      "353/353 [==============================] - 0s 641us/step - loss: 0.8303\n",
      "Epoch 40/250\n",
      "353/353 [==============================] - 0s 780us/step - loss: 0.8490\n",
      "Epoch 41/250\n",
      "353/353 [==============================] - 0s 749us/step - loss: 0.8403\n",
      "Epoch 42/250\n",
      "353/353 [==============================] - 0s 781us/step - loss: 0.8513\n",
      "Epoch 43/250\n",
      "353/353 [==============================] - 0s 830us/step - loss: 0.8323\n",
      "Epoch 44/250\n",
      "353/353 [==============================] - 0s 602us/step - loss: 0.8275\n",
      "Epoch 45/250\n",
      "353/353 [==============================] - 0s 661us/step - loss: 0.8208\n",
      "Epoch 46/250\n",
      "353/353 [==============================] - 0s 780us/step - loss: 0.8289\n",
      "Epoch 47/250\n",
      "353/353 [==============================] - 0s 733us/step - loss: 0.8197\n",
      "Epoch 48/250\n",
      "353/353 [==============================] - 0s 679us/step - loss: 0.8193\n",
      "Epoch 49/250\n",
      "353/353 [==============================] - 0s 786us/step - loss: 0.8218\n",
      "Epoch 50/250\n",
      "353/353 [==============================] - 0s 806us/step - loss: 0.8172\n",
      "Epoch 51/250\n",
      "353/353 [==============================] - 0s 689us/step - loss: 0.7970\n",
      "Epoch 52/250\n",
      "353/353 [==============================] - 0s 652us/step - loss: 0.8087\n",
      "Epoch 53/250\n",
      "353/353 [==============================] - 0s 653us/step - loss: 0.8048\n",
      "Epoch 54/250\n",
      "353/353 [==============================] - 0s 653us/step - loss: 0.7958\n",
      "Epoch 55/250\n",
      "353/353 [==============================] - 0s 656us/step - loss: 0.7986\n",
      "Epoch 56/250\n",
      "353/353 [==============================] - 0s 698us/step - loss: 0.8047\n",
      "Epoch 57/250\n",
      "353/353 [==============================] - 0s 742us/step - loss: 0.7968\n",
      "Epoch 58/250\n",
      "353/353 [==============================] - 0s 800us/step - loss: 0.7959\n",
      "Epoch 59/250\n",
      "353/353 [==============================] - 0s 687us/step - loss: 0.7859 0s - loss: 0.\n",
      "Epoch 60/250\n",
      "353/353 [==============================] - 0s 645us/step - loss: 0.7977\n",
      "Epoch 61/250\n",
      "353/353 [==============================] - 0s 729us/step - loss: 0.7803\n",
      "Epoch 62/250\n",
      "353/353 [==============================] - 0s 715us/step - loss: 0.7964\n",
      "Epoch 63/250\n",
      "353/353 [==============================] - 0s 740us/step - loss: 0.7970\n",
      "Epoch 64/250\n",
      "353/353 [==============================] - 0s 684us/step - loss: 0.7847\n",
      "Epoch 65/250\n",
      "353/353 [==============================] - 0s 670us/step - loss: 0.7935\n",
      "Epoch 66/250\n",
      "353/353 [==============================] - 0s 685us/step - loss: 0.7849\n",
      "Epoch 67/250\n",
      "353/353 [==============================] - 0s 630us/step - loss: 0.7796\n",
      "Epoch 68/250\n",
      "353/353 [==============================] - 0s 655us/step - loss: 0.7829\n",
      "Epoch 69/250\n",
      "353/353 [==============================] - 0s 635us/step - loss: 0.7786\n",
      "Epoch 70/250\n",
      "353/353 [==============================] - 0s 708us/step - loss: 0.7837\n",
      "Epoch 71/250\n",
      "353/353 [==============================] - 0s 650us/step - loss: 0.7756\n",
      "Epoch 72/250\n",
      "353/353 [==============================] - 0s 665us/step - loss: 0.7814\n",
      "Epoch 73/250\n",
      "353/353 [==============================] - 0s 645us/step - loss: 0.7733\n",
      "Epoch 74/250\n",
      "353/353 [==============================] - 0s 639us/step - loss: 0.7697\n",
      "Epoch 75/250\n",
      "353/353 [==============================] - 0s 643us/step - loss: 0.7679\n",
      "Epoch 76/250\n",
      "353/353 [==============================] - 0s 635us/step - loss: 0.7734\n",
      "Epoch 77/250\n",
      "353/353 [==============================] - 0s 661us/step - loss: 0.7771\n",
      "Epoch 78/250\n",
      "353/353 [==============================] - 0s 655us/step - loss: 0.7770 0s - loss: 0.79\n",
      "Epoch 79/250\n",
      "353/353 [==============================] - 0s 661us/step - loss: 0.7799\n",
      "Epoch 80/250\n",
      "353/353 [==============================] - 0s 661us/step - loss: 0.7655\n",
      "Epoch 81/250\n",
      "353/353 [==============================] - 0s 659us/step - loss: 0.7743\n",
      "Epoch 82/250\n",
      "353/353 [==============================] - 0s 645us/step - loss: 0.7827\n",
      "Epoch 83/250\n",
      "353/353 [==============================] - 0s 657us/step - loss: 0.7719\n",
      "Epoch 84/250\n",
      "353/353 [==============================] - 0s 762us/step - loss: 0.7721\n",
      "Epoch 85/250\n",
      "353/353 [==============================] - 0s 697us/step - loss: 0.7730\n",
      "Epoch 86/250\n",
      "353/353 [==============================] - 0s 663us/step - loss: 0.7639\n",
      "Epoch 87/250\n",
      "353/353 [==============================] - 0s 711us/step - loss: 0.7492\n",
      "Epoch 88/250\n",
      "353/353 [==============================] - 0s 630us/step - loss: 0.7610\n",
      "Epoch 89/250\n",
      "353/353 [==============================] - 0s 675us/step - loss: 0.7600\n",
      "Epoch 90/250\n",
      "353/353 [==============================] - 0s 659us/step - loss: 0.7741\n",
      "Epoch 91/250\n",
      "353/353 [==============================] - 0s 662us/step - loss: 0.7615\n",
      "Epoch 92/250\n",
      "353/353 [==============================] - 0s 640us/step - loss: 0.7671\n",
      "Epoch 93/250\n",
      "353/353 [==============================] - 0s 644us/step - loss: 0.7610\n",
      "Epoch 94/250\n",
      "353/353 [==============================] - 0s 669us/step - loss: 0.7602\n",
      "Epoch 95/250\n",
      "353/353 [==============================] - 0s 654us/step - loss: 0.7533\n",
      "Epoch 96/250\n",
      "353/353 [==============================] - 0s 637us/step - loss: 0.7543\n",
      "Epoch 97/250\n",
      "353/353 [==============================] - 0s 655us/step - loss: 0.7631\n",
      "Epoch 98/250\n",
      "353/353 [==============================] - 0s 644us/step - loss: 0.7607\n",
      "Epoch 99/250\n",
      "353/353 [==============================] - 0s 672us/step - loss: 0.7566\n",
      "Epoch 100/250\n",
      "353/353 [==============================] - 0s 715us/step - loss: 0.7546\n",
      "Epoch 101/250\n",
      "353/353 [==============================] - 0s 633us/step - loss: 0.7643\n",
      "Epoch 102/250\n",
      "353/353 [==============================] - 0s 570us/step - loss: 0.7574\n",
      "Epoch 103/250\n",
      "353/353 [==============================] - 0s 617us/step - loss: 0.7432\n",
      "Epoch 104/250\n",
      "353/353 [==============================] - 0s 628us/step - loss: 0.7580\n",
      "Epoch 105/250\n",
      "353/353 [==============================] - 0s 714us/step - loss: 0.7520\n",
      "Epoch 106/250\n",
      "353/353 [==============================] - 0s 675us/step - loss: 0.7563\n",
      "Epoch 107/250\n",
      "353/353 [==============================] - 0s 650us/step - loss: 0.7545\n",
      "Epoch 108/250\n",
      "353/353 [==============================] - 0s 684us/step - loss: 0.7492\n",
      "Epoch 109/250\n",
      "353/353 [==============================] - 0s 644us/step - loss: 0.7537\n",
      "Epoch 110/250\n",
      "353/353 [==============================] - 0s 633us/step - loss: 0.7652\n",
      "Epoch 111/250\n",
      "353/353 [==============================] - 0s 666us/step - loss: 0.7455\n",
      "Epoch 112/250\n",
      "353/353 [==============================] - 0s 646us/step - loss: 0.7417\n",
      "Epoch 113/250\n",
      "353/353 [==============================] - 0s 636us/step - loss: 0.7481\n",
      "Epoch 114/250\n",
      "353/353 [==============================] - 0s 631us/step - loss: 0.7600\n",
      "Epoch 115/250\n",
      "353/353 [==============================] - 0s 636us/step - loss: 0.7432\n",
      "Epoch 116/250\n",
      "353/353 [==============================] - 0s 619us/step - loss: 0.7450\n",
      "Epoch 117/250\n",
      "353/353 [==============================] - 0s 635us/step - loss: 0.7464\n",
      "Epoch 118/250\n",
      "353/353 [==============================] - 0s 635us/step - loss: 0.7502\n",
      "Epoch 119/250\n",
      "353/353 [==============================] - 0s 639us/step - loss: 0.7343\n",
      "Epoch 120/250\n",
      "353/353 [==============================] - 0s 647us/step - loss: 0.7394\n",
      "Epoch 121/250\n",
      "353/353 [==============================] - 0s 618us/step - loss: 0.7576\n",
      "Epoch 122/250\n",
      "353/353 [==============================] - 0s 613us/step - loss: 0.7391\n",
      "Epoch 123/250\n",
      "353/353 [==============================] - 0s 634us/step - loss: 0.7339\n",
      "Epoch 124/250\n",
      "353/353 [==============================] - 0s 625us/step - loss: 0.7423\n",
      "Epoch 125/250\n",
      "353/353 [==============================] - 0s 655us/step - loss: 0.7366\n",
      "Epoch 126/250\n",
      "353/353 [==============================] - 0s 666us/step - loss: 0.7381\n",
      "Epoch 127/250\n",
      "353/353 [==============================] - 0s 708us/step - loss: 0.7406\n",
      "Epoch 128/250\n",
      "353/353 [==============================] - 0s 655us/step - loss: 0.7178\n",
      "Epoch 129/250\n",
      "353/353 [==============================] - 0s 643us/step - loss: 0.7347\n",
      "Epoch 130/250\n",
      "353/353 [==============================] - 0s 681us/step - loss: 0.7344\n",
      "Epoch 131/250\n",
      "353/353 [==============================] - 0s 653us/step - loss: 0.7271\n",
      "Epoch 132/250\n",
      "353/353 [==============================] - 0s 640us/step - loss: 0.7416\n",
      "Epoch 133/250\n",
      "353/353 [==============================] - 0s 631us/step - loss: 0.7320\n",
      "Epoch 134/250\n",
      "353/353 [==============================] - 0s 645us/step - loss: 0.7345\n",
      "Epoch 135/250\n",
      "353/353 [==============================] - 0s 714us/step - loss: 0.7285\n",
      "Epoch 136/250\n",
      "353/353 [==============================] - 0s 581us/step - loss: 0.7219\n",
      "Epoch 137/250\n",
      "353/353 [==============================] - 0s 608us/step - loss: 0.7295\n",
      "Epoch 138/250\n",
      "353/353 [==============================] - 0s 643us/step - loss: 0.7385\n",
      "Epoch 139/250\n",
      "353/353 [==============================] - 0s 638us/step - loss: 0.7354\n",
      "Epoch 140/250\n",
      "353/353 [==============================] - 0s 649us/step - loss: 0.7250\n",
      "Epoch 141/250\n",
      "353/353 [==============================] - 0s 649us/step - loss: 0.7251\n",
      "Epoch 142/250\n",
      "353/353 [==============================] - 0s 628us/step - loss: 0.7424\n",
      "Epoch 143/250\n",
      "353/353 [==============================] - 0s 640us/step - loss: 0.7230\n",
      "Epoch 144/250\n",
      "353/353 [==============================] - 0s 625us/step - loss: 0.7291\n",
      "Epoch 145/250\n",
      "353/353 [==============================] - 0s 645us/step - loss: 0.7263\n",
      "Epoch 146/250\n",
      "353/353 [==============================] - 0s 639us/step - loss: 0.7255\n",
      "Epoch 147/250\n",
      "353/353 [==============================] - 0s 628us/step - loss: 0.7167\n",
      "Epoch 148/250\n",
      "353/353 [==============================] - 0s 700us/step - loss: 0.7312\n",
      "Epoch 149/250\n",
      "353/353 [==============================] - 0s 729us/step - loss: 0.7205\n",
      "Epoch 150/250\n",
      "353/353 [==============================] - 0s 664us/step - loss: 0.7263\n",
      "Epoch 151/250\n",
      "353/353 [==============================] - 0s 689us/step - loss: 0.7184\n",
      "Epoch 152/250\n",
      "353/353 [==============================] - 0s 731us/step - loss: 0.7274\n",
      "Epoch 153/250\n",
      "353/353 [==============================] - 0s 630us/step - loss: 0.7177\n",
      "Epoch 154/250\n",
      "353/353 [==============================] - 0s 632us/step - loss: 0.7239\n",
      "Epoch 155/250\n",
      "353/353 [==============================] - 0s 638us/step - loss: 0.7191\n",
      "Epoch 156/250\n",
      "353/353 [==============================] - 0s 646us/step - loss: 0.7197\n",
      "Epoch 157/250\n",
      "353/353 [==============================] - 0s 653us/step - loss: 0.7241\n",
      "Epoch 158/250\n",
      "353/353 [==============================] - 0s 647us/step - loss: 0.7165\n",
      "Epoch 159/250\n",
      "353/353 [==============================] - 0s 643us/step - loss: 0.7129\n",
      "Epoch 160/250\n",
      "353/353 [==============================] - 0s 636us/step - loss: 0.7109\n",
      "Epoch 161/250\n",
      "353/353 [==============================] - 0s 637us/step - loss: 0.7173\n",
      "Epoch 162/250\n",
      "353/353 [==============================] - 0s 627us/step - loss: 0.7123\n",
      "Epoch 163/250\n",
      "353/353 [==============================] - 0s 639us/step - loss: 0.7208\n",
      "Epoch 164/250\n",
      "353/353 [==============================] - 0s 643us/step - loss: 0.7187\n",
      "Epoch 165/250\n",
      "353/353 [==============================] - 0s 658us/step - loss: 0.7192\n",
      "Epoch 166/250\n",
      "353/353 [==============================] - 0s 624us/step - loss: 0.7116\n",
      "Epoch 167/250\n",
      "353/353 [==============================] - 0s 635us/step - loss: 0.7125\n",
      "Epoch 168/250\n",
      "353/353 [==============================] - 0s 642us/step - loss: 0.7133\n",
      "Epoch 169/250\n",
      "353/353 [==============================] - 0s 628us/step - loss: 0.7103\n",
      "Epoch 170/250\n",
      "353/353 [==============================] - 0s 735us/step - loss: 0.7130\n",
      "Epoch 171/250\n",
      "353/353 [==============================] - 0s 677us/step - loss: 0.7119\n",
      "Epoch 172/250\n",
      "353/353 [==============================] - 0s 684us/step - loss: 0.7084\n",
      "Epoch 173/250\n",
      "353/353 [==============================] - 0s 672us/step - loss: 0.7019\n",
      "Epoch 174/250\n",
      "353/353 [==============================] - 0s 656us/step - loss: 0.7037\n",
      "Epoch 175/250\n",
      "353/353 [==============================] - 0s 629us/step - loss: 0.6990\n",
      "Epoch 176/250\n",
      "353/353 [==============================] - 0s 644us/step - loss: 0.7006\n",
      "Epoch 177/250\n",
      "353/353 [==============================] - 0s 654us/step - loss: 0.7108\n",
      "Epoch 178/250\n",
      "353/353 [==============================] - 0s 645us/step - loss: 0.7009 0s - loss: 0.6\n",
      "Epoch 179/250\n",
      "353/353 [==============================] - 0s 660us/step - loss: 0.7082\n",
      "Epoch 180/250\n",
      "353/353 [==============================] - 0s 808us/step - loss: 0.7077\n",
      "Epoch 181/250\n",
      "353/353 [==============================] - 0s 552us/step - loss: 0.6959\n",
      "Epoch 182/250\n",
      "353/353 [==============================] - 0s 619us/step - loss: 0.7146\n",
      "Epoch 183/250\n",
      "353/353 [==============================] - 0s 634us/step - loss: 0.7076\n",
      "Epoch 184/250\n",
      "353/353 [==============================] - 0s 650us/step - loss: 0.6951\n",
      "Epoch 185/250\n",
      "353/353 [==============================] - 0s 605us/step - loss: 0.6992\n",
      "Epoch 186/250\n",
      "353/353 [==============================] - 0s 661us/step - loss: 0.7082\n",
      "Epoch 187/250\n",
      "353/353 [==============================] - 0s 733us/step - loss: 0.7074\n",
      "Epoch 188/250\n",
      "353/353 [==============================] - 0s 915us/step - loss: 0.7155\n",
      "Epoch 189/250\n",
      "353/353 [==============================] - 0s 633us/step - loss: 0.6952\n",
      "Epoch 190/250\n",
      "353/353 [==============================] - 0s 546us/step - loss: 0.6950\n",
      "Epoch 191/250\n"
     ]
    },
    {
     "name": "stdout",
     "output_type": "stream",
     "text": [
      "353/353 [==============================] - 0s 696us/step - loss: 0.6941\n",
      "Epoch 192/250\n",
      "353/353 [==============================] - 0s 740us/step - loss: 0.6980\n",
      "Epoch 193/250\n",
      "353/353 [==============================] - 0s 593us/step - loss: 0.7118\n",
      "Epoch 194/250\n",
      "353/353 [==============================] - 0s 605us/step - loss: 0.7006\n",
      "Epoch 195/250\n",
      "353/353 [==============================] - 0s 626us/step - loss: 0.7076\n",
      "Epoch 196/250\n",
      "353/353 [==============================] - 0s 648us/step - loss: 0.6978\n",
      "Epoch 197/250\n",
      "353/353 [==============================] - 0s 682us/step - loss: 0.7056\n",
      "Epoch 198/250\n",
      "353/353 [==============================] - 0s 636us/step - loss: 0.6900\n",
      "Epoch 199/250\n",
      "353/353 [==============================] - 0s 633us/step - loss: 0.7070\n",
      "Epoch 200/250\n",
      "353/353 [==============================] - 0s 633us/step - loss: 0.6933\n",
      "Epoch 201/250\n",
      "353/353 [==============================] - 0s 655us/step - loss: 0.6793\n",
      "Epoch 202/250\n",
      "353/353 [==============================] - 0s 618us/step - loss: 0.6882\n",
      "Epoch 203/250\n",
      "353/353 [==============================] - 0s 640us/step - loss: 0.6944\n",
      "Epoch 204/250\n",
      "353/353 [==============================] - 0s 639us/step - loss: 0.6830\n",
      "Epoch 205/250\n",
      "353/353 [==============================] - 0s 653us/step - loss: 0.6888\n",
      "Epoch 206/250\n",
      "353/353 [==============================] - 0s 629us/step - loss: 0.6936\n",
      "Epoch 207/250\n",
      "353/353 [==============================] - 0s 636us/step - loss: 0.6945\n",
      "Epoch 208/250\n",
      "353/353 [==============================] - 0s 659us/step - loss: 0.6858\n",
      "Epoch 209/250\n",
      "353/353 [==============================] - 0s 825us/step - loss: 0.6979\n",
      "Epoch 210/250\n",
      "353/353 [==============================] - 0s 812us/step - loss: 0.6963\n",
      "Epoch 211/250\n",
      "353/353 [==============================] - 0s 765us/step - loss: 0.6968\n",
      "Epoch 212/250\n",
      "353/353 [==============================] - 0s 919us/step - loss: 0.6862\n",
      "Epoch 213/250\n",
      "353/353 [==============================] - 0s 656us/step - loss: 0.6916\n",
      "Epoch 214/250\n",
      "353/353 [==============================] - 0s 647us/step - loss: 0.6799\n",
      "Epoch 215/250\n",
      "353/353 [==============================] - 0s 636us/step - loss: 0.6953\n",
      "Epoch 216/250\n",
      "353/353 [==============================] - 0s 610us/step - loss: 0.6830\n",
      "Epoch 217/250\n",
      "353/353 [==============================] - 0s 587us/step - loss: 0.6933\n",
      "Epoch 218/250\n",
      "353/353 [==============================] - 0s 587us/step - loss: 0.6845\n",
      "Epoch 219/250\n",
      "353/353 [==============================] - 0s 578us/step - loss: 0.6842\n",
      "Epoch 220/250\n",
      "353/353 [==============================] - 0s 650us/step - loss: 0.6894\n",
      "Epoch 221/250\n",
      "353/353 [==============================] - 0s 664us/step - loss: 0.6812\n",
      "Epoch 222/250\n",
      "353/353 [==============================] - 0s 650us/step - loss: 0.6910\n",
      "Epoch 223/250\n",
      "353/353 [==============================] - 0s 707us/step - loss: 0.6885\n",
      "Epoch 224/250\n",
      "353/353 [==============================] - 0s 679us/step - loss: 0.6886 0s - loss: 0.6\n",
      "Epoch 225/250\n",
      "353/353 [==============================] - 0s 731us/step - loss: 0.6879\n",
      "Epoch 226/250\n",
      "353/353 [==============================] - 0s 669us/step - loss: 0.6762\n",
      "Epoch 227/250\n",
      "353/353 [==============================] - 0s 660us/step - loss: 0.6888\n",
      "Epoch 228/250\n",
      "353/353 [==============================] - 0s 626us/step - loss: 0.6872\n",
      "Epoch 229/250\n",
      "353/353 [==============================] - 0s 592us/step - loss: 0.6871\n",
      "Epoch 230/250\n",
      "353/353 [==============================] - ETA: 0s - loss: 0.674 - 0s 679us/step - loss: 0.6893\n",
      "Epoch 231/250\n",
      "353/353 [==============================] - 0s 596us/step - loss: 0.6754 0s - loss: 0.\n",
      "Epoch 232/250\n",
      "353/353 [==============================] - 0s 584us/step - loss: 0.6730\n",
      "Epoch 233/250\n",
      "353/353 [==============================] - 0s 675us/step - loss: 0.6800\n",
      "Epoch 234/250\n",
      "353/353 [==============================] - 0s 902us/step - loss: 0.6877\n",
      "Epoch 235/250\n",
      "353/353 [==============================] - 0s 670us/step - loss: 0.6788\n",
      "Epoch 236/250\n",
      "353/353 [==============================] - 0s 665us/step - loss: 0.6857\n",
      "Epoch 237/250\n",
      "353/353 [==============================] - 0s 626us/step - loss: 0.6907\n",
      "Epoch 238/250\n",
      "353/353 [==============================] - 0s 651us/step - loss: 0.6844\n",
      "Epoch 239/250\n",
      "353/353 [==============================] - 0s 659us/step - loss: 0.6873\n",
      "Epoch 240/250\n",
      "353/353 [==============================] - 0s 714us/step - loss: 0.6769\n",
      "Epoch 241/250\n",
      "353/353 [==============================] - 0s 708us/step - loss: 0.6887\n",
      "Epoch 242/250\n",
      "353/353 [==============================] - 0s 752us/step - loss: 0.6836\n",
      "Epoch 243/250\n",
      "353/353 [==============================] - 0s 550us/step - loss: 0.6873\n",
      "Epoch 244/250\n",
      "353/353 [==============================] - 0s 588us/step - loss: 0.6848\n",
      "Epoch 245/250\n",
      "353/353 [==============================] - 0s 627us/step - loss: 0.6802\n",
      "Epoch 246/250\n",
      "353/353 [==============================] - 0s 617us/step - loss: 0.6745\n",
      "Epoch 247/250\n",
      "353/353 [==============================] - 0s 618us/step - loss: 0.6697\n",
      "Epoch 248/250\n",
      "353/353 [==============================] - 0s 662us/step - loss: 0.6820\n",
      "Epoch 249/250\n",
      "353/353 [==============================] - 0s 791us/step - loss: 0.6694\n",
      "Epoch 250/250\n",
      "353/353 [==============================] - 0s 604us/step - loss: 0.6804\n"
     ]
    },
    {
     "data": {
      "text/plain": [
       "<tensorflow.python.keras.callbacks.History at 0x29865ad00c8>"
      ]
     },
     "execution_count": 94,
     "metadata": {},
     "output_type": "execute_result"
    }
   ],
   "source": [
    "model.fit(X_train,y_train,epochs=250)"
   ]
  },
  {
   "cell_type": "code",
   "execution_count": 95,
   "metadata": {},
   "outputs": [
    {
     "data": {
      "text/plain": [
       "<matplotlib.axes._subplots.AxesSubplot at 0x29803785288>"
      ]
     },
     "execution_count": 95,
     "metadata": {},
     "output_type": "execute_result"
    },
    {
     "data": {
      "image/png": "[encoded data removed]",
      "text/plain": [
       "<Figure size 432x288 with 1 Axes>"
      ]
     },
     "metadata": {
      "needs_background": "light"
     },
     "output_type": "display_data"
    }
   ],
   "source": [
    "model_loss = pd.DataFrame(model.history.history)\n",
    "model_loss.plot()"
   ]
  },
  {
   "cell_type": "code",
   "execution_count": 151,
   "metadata": {},
   "outputs": [],
   "source": [
    "pred = model.predict(X_test)"
   ]
  },
  {
   "cell_type": "code",
   "execution_count": 152,
   "metadata": {},
   "outputs": [],
   "source": [
    "pred = pred.ravel()"
   ]
  },
  {
   "cell_type": "code",
   "execution_count": 153,
   "metadata": {},
   "outputs": [
    {
     "data": {
      "text/plain": [
       "0.7355530858039856"
      ]
     },
     "execution_count": 153,
     "metadata": {},
     "output_type": "execute_result"
    }
   ],
   "source": [
    "test_score = model.evaluate(X_test,y_test,verbose=0)\n",
    "test_score"
   ]
  },
  {
   "cell_type": "code",
   "execution_count": 154,
   "metadata": {},
   "outputs": [],
   "source": [
    "from sklearn.metrics import mean_absolute_error,mean_squared_error"
   ]
  },
  {
   "cell_type": "code",
   "execution_count": 166,
   "metadata": {},
   "outputs": [
    {
     "data": {
      "text/plain": [
       "0.6749611974675604"
      ]
     },
     "execution_count": 166,
     "metadata": {},
     "output_type": "execute_result"
    }
   ],
   "source": [
    "mean_absolute_error(pred,y_test)"
   ]
  },
  {
   "cell_type": "code",
   "execution_count": 167,
   "metadata": {},
   "outputs": [
    {
     "data": {
      "text/plain": [
       "0.7355524794000082"
      ]
     },
     "execution_count": 167,
     "metadata": {},
     "output_type": "execute_result"
    }
   ],
   "source": [
    "mean_squared_error(pred,y_test)"
   ]
  },
  {
   "cell_type": "code",
   "execution_count": 177,
   "metadata": {},
   "outputs": [
    {
     "data": {
      "text/plain": [
       "<matplotlib.collections.PathCollection at 0x298062c2f88>"
      ]
     },
     "execution_count": 177,
     "metadata": {},
     "output_type": "execute_result"
    },
    {
     "data": {
      "image/png": "[encoded data removed]",
      "text/plain": [
       "<Figure size 432x288 with 1 Axes>"
      ]
     },
     "metadata": {
      "needs_background": "light"
     },
     "output_type": "display_data"
    }
   ],
   "source": [
    "plt.scatter(y_test,pred)"
   ]
  }
 ],
 "metadata": {
  "kernelspec": {
   "display_name": "Python 3",
   "language": "python",
   "name": "python3"
  },
  "language_info": {
   "codemirror_mode": {
    "name": "ipython",
    "version": 3
   },
   "file_extension": ".py",
   "mimetype": "text/x-python",
   "name": "python",
   "nbconvert_exporter": "python",
   "pygments_lexer": "ipython3",
   "version": "3.7.4"
  }
 },
 "nbformat": 4,
 "nbformat_minor": 2
}
