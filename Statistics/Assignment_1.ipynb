{
 "cells": [
  {
   "cell_type": "markdown",
   "metadata": {},
   "source": [
    "# Assignment No 1"
   ]
  },
  {
   "cell_type": "markdown",
   "metadata": {},
   "source": [
    "### Que No 7\n",
    "##### Calculate Mean, Median, Mode, Variance, Standard Deviation, Range &     comment about the values / draw inferences, for the given dataset"
   ]
  },
  {
   "cell_type": "code",
   "execution_count": 1,
   "metadata": {},
   "outputs": [
    {
     "name": "stderr",
     "output_type": "stream",
     "text": [
      "C:\\Users\\PRANAV\\Anaconda3\\lib\\site-packages\\statsmodels\\tools\\_testing.py:19: FutureWarning: pandas.util.testing is deprecated. Use the functions in the public API at pandas.testing instead.\n",
      "  import pandas.util.testing as tm\n"
     ]
    }
   ],
   "source": [
    "import pandas as pd\n",
    "import numpy as np\n",
    "from scipy import stats\n",
    "import matplotlib.pyplot as plt \n",
    "import seaborn as sns \n",
    "import math\n",
    "%matplotlib inline"
   ]
  },
  {
   "cell_type": "code",
   "execution_count": 2,
   "metadata": {},
   "outputs": [
    {
     "data": {
      "text/html": [
       "<div>\n",
       "<style scoped>\n",
       "    .dataframe tbody tr th:only-of-type {\n",
       "        vertical-align: middle;\n",
       "    }\n",
       "\n",
       "    .dataframe tbody tr th {\n",
       "        vertical-align: top;\n",
       "    }\n",
       "\n",
       "    .dataframe thead th {\n",
       "        text-align: right;\n",
       "    }\n",
       "</style>\n",
       "<table border=\"1\" class=\"dataframe\">\n",
       "  <thead>\n",
       "    <tr style=\"text-align: right;\">\n",
       "      <th></th>\n",
       "      <th>Unnamed: 0</th>\n",
       "      <th>Points</th>\n",
       "      <th>Score</th>\n",
       "      <th>Weigh</th>\n",
       "    </tr>\n",
       "  </thead>\n",
       "  <tbody>\n",
       "    <tr>\n",
       "      <th>0</th>\n",
       "      <td>Mazda RX4</td>\n",
       "      <td>3.90</td>\n",
       "      <td>2.620</td>\n",
       "      <td>16.46</td>\n",
       "    </tr>\n",
       "    <tr>\n",
       "      <th>1</th>\n",
       "      <td>Mazda RX4 Wag</td>\n",
       "      <td>3.90</td>\n",
       "      <td>2.875</td>\n",
       "      <td>17.02</td>\n",
       "    </tr>\n",
       "    <tr>\n",
       "      <th>2</th>\n",
       "      <td>Datsun 710</td>\n",
       "      <td>3.85</td>\n",
       "      <td>2.320</td>\n",
       "      <td>18.61</td>\n",
       "    </tr>\n",
       "    <tr>\n",
       "      <th>3</th>\n",
       "      <td>Hornet 4 Drive</td>\n",
       "      <td>3.08</td>\n",
       "      <td>3.215</td>\n",
       "      <td>19.44</td>\n",
       "    </tr>\n",
       "    <tr>\n",
       "      <th>4</th>\n",
       "      <td>Hornet Sportabout</td>\n",
       "      <td>3.15</td>\n",
       "      <td>3.440</td>\n",
       "      <td>17.02</td>\n",
       "    </tr>\n",
       "  </tbody>\n",
       "</table>\n",
       "</div>"
      ],
      "text/plain": [
       "          Unnamed: 0  Points  Score  Weigh\n",
       "0          Mazda RX4    3.90  2.620  16.46\n",
       "1      Mazda RX4 Wag    3.90  2.875  17.02\n",
       "2         Datsun 710    3.85  2.320  18.61\n",
       "3     Hornet 4 Drive    3.08  3.215  19.44\n",
       "4  Hornet Sportabout    3.15  3.440  17.02"
      ]
     },
     "execution_count": 2,
     "metadata": {},
     "output_type": "execute_result"
    }
   ],
   "source": [
    "df = pd.read_csv(r'C:\\Users\\PRANAV\\Desktop\\lms\\Q7.csv')\n",
    "df.head()"
   ]
  },
  {
   "cell_type": "code",
   "execution_count": 3,
   "metadata": {},
   "outputs": [
    {
     "name": "stdout",
     "output_type": "stream",
     "text": [
      "Mean of Points: 3.5965625000000006\n",
      "Mean of Score: 3.2172499999999995\n",
      "Mean of Weigh: 17.848750000000003\n"
     ]
    }
   ],
   "source": [
    "# Mean\n",
    "print('Mean of Points:',np.mean(df['Points']))\n",
    "print('Mean of Score:',np.mean(df['Score']))\n",
    "print('Mean of Weigh:',np.mean(df['Weigh']))"
   ]
  },
  {
   "cell_type": "code",
   "execution_count": 4,
   "metadata": {},
   "outputs": [
    {
     "name": "stdout",
     "output_type": "stream",
     "text": [
      "Median of Points: 3.6950000000000003\n",
      "Median of Score: 3.325\n",
      "Median of Weigh: 17.71\n"
     ]
    }
   ],
   "source": [
    "# Median\n",
    "print('Median of Points:',np.median(df['Points']))\n",
    "print('Median of Score:',np.median(df['Score']))\n",
    "print('Median of Weigh:',np.median(df['Weigh']))"
   ]
  },
  {
   "cell_type": "code",
   "execution_count": 5,
   "metadata": {},
   "outputs": [
    {
     "name": "stdout",
     "output_type": "stream",
     "text": [
      "Mode of Points: ModeResult(mode=array([3.07]), count=array([3]))\n",
      "Mode of Score: ModeResult(mode=array([3.44]), count=array([3]))\n",
      "Mode of Weigh: ModeResult(mode=array([17.02]), count=array([2]))\n"
     ]
    }
   ],
   "source": [
    "# Mode\n",
    "print('Mode of Points:',stats.mode(df['Points']))\n",
    "print('Mode of Score:',stats.mode(df['Score']))\n",
    "print('Mode of Weigh:',stats.mode(df['Weigh']))"
   ]
  },
  {
   "cell_type": "code",
   "execution_count": 6,
   "metadata": {},
   "outputs": [
    {
     "name": "stdout",
     "output_type": "stream",
     "text": [
      "Variance of Points: 0.27694755859375003\n",
      "Variance of Score: 0.9274608750000002\n",
      "Variance of Weigh: 3.0933796874999997\n"
     ]
    }
   ],
   "source": [
    "# Variance\n",
    "print('Variance of Points:',np.var(df['Points']))\n",
    "print('Variance of Score:',np.var(df['Score']))\n",
    "print('Variance of Weigh:',np.var(df['Weigh']))"
   ]
  },
  {
   "cell_type": "code",
   "execution_count": 7,
   "metadata": {},
   "outputs": [
    {
     "name": "stdout",
     "output_type": "stream",
     "text": [
      "Standard Deviation of Points: 0.5262580722361891\n",
      "Standard Deviation of Score: 0.9630477013107919\n",
      "Standard Deviation of Weigh: 1.758800638929836\n"
     ]
    }
   ],
   "source": [
    "# Standard deviation\n",
    "print('Standard Deviation of Points:',np.std(df['Points']))\n",
    "print('Standard Deviation of Score:',np.std(df['Score']))\n",
    "print('Standard Deviation of Weigh:',np.std(df['Weigh']))"
   ]
  },
  {
   "cell_type": "code",
   "execution_count": 8,
   "metadata": {},
   "outputs": [
    {
     "name": "stdout",
     "output_type": "stream",
     "text": [
      "Range of Points: 2.17\n",
      "Range of Score: 2.6640000000000006\n",
      "Range of Weigh: 20.14\n"
     ]
    }
   ],
   "source": [
    "# range\n",
    "print('Range of Points:',(np.max(df['Points'])-np.min(df['Points'])))\n",
    "print('Range of Score:',(np.max(df['Score'])-np.min(df['Points'])))\n",
    "print('Range of Weigh:',(np.max(df['Weigh'])-np.min(df['Points'])))\n"
   ]
  },
  {
   "cell_type": "markdown",
   "metadata": {},
   "source": [
    "### Que No 9a\n",
    "##### Calculate Skewness, Kurtosis & draw inferences on the following data Cars speed and distance \n"
   ]
  },
  {
   "cell_type": "code",
   "execution_count": 9,
   "metadata": {},
   "outputs": [
    {
     "name": "stdout",
     "output_type": "stream",
     "text": [
      "Skewness\n",
      "Skewness for Speed : -0.11395477012828319\n",
      "Skewness for Distance : 0.7824835173114966\n",
      "\n",
      "Kurtosis\n",
      "Kurtosis for Speed : -0.5771474239437371\n",
      "Kurtosis for Distance : 0.24801865717051808\n"
     ]
    }
   ],
   "source": [
    "a_csv = pd.read_csv(r'C:\\Users\\PRANAV\\Desktop\\lms\\Q9_a.csv')\n",
    "y = a_csv['speed']\n",
    "x = a_csv['dist']\n",
    "print('Skewness')\n",
    "print( 'Skewness for Speed :',stats.skew(y)) \n",
    "print( 'Skewness for Distance :',stats.skew(x)) \n",
    "\n",
    "print('\\nKurtosis')\n",
    "print( 'Kurtosis for Speed :',stats.kurtosis(y)) \n",
    "print( 'Kurtosis for Distance :',stats.kurtosis(x)) "
   ]
  },
  {
   "cell_type": "markdown",
   "metadata": {},
   "source": [
    "### Q9_b \n",
    "#####  Calculate Skewness, Kurtosis & draw inferences on the following data Cars speed and distance \n"
   ]
  },
  {
   "cell_type": "code",
   "execution_count": 10,
   "metadata": {},
   "outputs": [
    {
     "name": "stdout",
     "output_type": "stream",
     "text": [
      "Skewness\n",
      "Kurtosis for SP : 1.5814536794423764\n",
      "Kurtosis for Weight : -0.6033099322115126\n",
      "\n",
      "Kurtosis\n",
      "Kurtosis for SP : 2.7235214865269244\n",
      "Kurtosis for Weight : 0.8194658792266849\n"
     ]
    }
   ],
   "source": [
    "b_csv = pd.read_csv(r'C:\\Users\\PRANAV\\Desktop\\lms\\Q9_b.csv')\n",
    "y = b_csv['SP']\n",
    "x = b_csv['WT']\n",
    "print('Skewness')\n",
    "print( 'Kurtosis for SP :',stats.skew(y))\n",
    "print( 'Kurtosis for Weight :',stats.skew(x))\n",
    "\n",
    "print('\\nKurtosis')\n",
    "print( 'Kurtosis for SP :',stats.kurtosis(y))\n",
    "print( 'Kurtosis for Weight :',stats.kurtosis(x))"
   ]
  },
  {
   "cell_type": "markdown",
   "metadata": {},
   "source": [
    "### Q11\n",
    "CONFIDENCE INTERVAL\n"
   ]
  },
  {
   "cell_type": "code",
   "execution_count": 11,
   "metadata": {},
   "outputs": [
    {
     "name": "stdout",
     "output_type": "stream",
     "text": [
      "Confidence interval for 94%:  201.2623910556929\n",
      "\n",
      "Confidence interval for 99%:  201.5618139516784\n",
      "\n",
      "Confidence interval for 96%:  201.3785962570268\n"
     ]
    }
   ],
   "source": [
    "x  = 200\n",
    "s = 30\n",
    "n = 2000\n",
    "\n",
    "# for 94%\n",
    "t1 = stats.t.ppf(.97,df= n-1)\n",
    "Confidence_interval = x + ((t1*s)/n**0.5)\n",
    "print(\"Confidence interval for 94%: \",Confidence_interval)\n",
    "\n",
    "# for 98%\n",
    "t2 = stats.t.ppf(.99,df= n-1)\n",
    "Confidence_interval = x + ((t2*s)/n**0.5)\n",
    "print(\"\\nConfidence interval for 99%: \",Confidence_interval)\n",
    "\n",
    "# for 96%\n",
    "t3 = stats.t.ppf(.98,df= n-1)\n",
    "Confidence_interval = x + ((t3*s)/n**0.5)\n",
    "print(\"\\nConfidence interval for 96%: \",Confidence_interval)\n"
   ]
  },
  {
   "cell_type": "markdown",
   "metadata": {},
   "source": [
    "### Q12"
   ]
  },
  {
   "cell_type": "code",
   "execution_count": 12,
   "metadata": {},
   "outputs": [
    {
     "name": "stdout",
     "output_type": "stream",
     "text": [
      "Mean of marks: 41.0\n",
      "\n",
      "Median of marks: 40.5\n",
      "\n",
      "Variance of marks: 24.11111111111111\n",
      "\n",
      "Standard deviation of marks: 4.910306620885412\n"
     ]
    }
   ],
   "source": [
    "# 1\n",
    "marks = [34,36,36,38,38,39,39,40,40,41,41,41,41,42,42,45,49,56]\n",
    "print('Mean of marks:',np.mean(marks))\n",
    "print('\\nMedian of marks:',np.median(marks))\n",
    "print('\\nVariance of marks:',np.var(marks))\n",
    "print('\\nStandard deviation of marks:',np.std(marks))\n",
    "\n",
    "\n"
   ]
  },
  {
   "cell_type": "markdown",
   "metadata": {},
   "source": [
    "### Q20\n",
    "######   Calculate probability from the given dataset for the below cases Data _set: Cars.csv Calculate the probability of MPG of Cars for the below cases.\n",
    "##### a.P(MPG>38)\n",
    "###### b.P(MPG<40)\n",
    "##### c.P (20<MPG<50)"
   ]
  },
  {
   "cell_type": "code",
   "execution_count": 13,
   "metadata": {
    "scrolled": true
   },
   "outputs": [
    {
     "name": "stdout",
     "output_type": "stream",
     "text": [
      "P(MPG>38) (0.3475939251582705, 3)\n",
      "P(MPG<40) (0.7293498762151616, 3)\n",
      "P(20<MPG<50) [-0.01311647 -2.05712378]\n"
     ]
    }
   ],
   "source": [
    "cars = pd.read_csv(r'C:\\Users\\PRANAV\\Desktop\\lms\\Cars.csv')\n",
    "#print(cars.head())\n",
    "print('P(MPG>38)',(1-stats.norm.cdf(38,loc=cars['MPG'].mean(),scale=cars['MPG'].std()),3))\n",
    "print('P(MPG<40)',(stats.norm.cdf(40,loc=cars['MPG'].mean(),scale=cars['MPG'].std()),3))\n",
    "print('P(20<MPG<50)',(1-stats.norm.cdf(20,loc=cars['MPG'].mean(),scale=cars['MPG'].std()))\n",
    "      -(stats.norm.cdf(50,loc=cars['MPG'].mean(),scale=cars['MPG'].std()),3))"
   ]
  },
  {
   "cell_type": "markdown",
   "metadata": {},
   "source": [
    "### Q21a\n",
    "###### Check whether the data follows normal distribution a)Check whether the MPG of Cars follows Normal Distribution \n",
    "        \n",
    " "
   ]
  },
  {
   "cell_type": "code",
   "execution_count": 14,
   "metadata": {},
   "outputs": [
    {
     "data": {
      "image/png": "[encoded data removed]",
      "text/plain": [
       "<Figure size 432x288 with 1 Axes>"
      ]
     },
     "metadata": {
      "needs_background": "light"
     },
     "output_type": "display_data"
    },
    {
     "data": {
      "image/png": "[encoded data removed]",
      "text/plain": [
       "<Figure size 432x288 with 1 Axes>"
      ]
     },
     "metadata": {
      "needs_background": "light"
     },
     "output_type": "display_data"
    }
   ],
   "source": [
    "cars = pd.read_csv(r'C:\\Users\\PRANAV\\Desktop\\lms\\Cars.csv')\n",
    "\n",
    "'''if cars['MPG'].mean() == cars['MPG'].median() == stats.mode(cars['MPG']):\n",
    "    print('MPA follows Normal Distribution')\n",
    "else:\n",
    "    print('MPA is Not follows Normal Distribution')\n",
    "'''\n",
    "# Histogram\n",
    "plt.hist(cars['MPG'])\n",
    "plt.show()\n",
    " \n",
    "# Quantile-Quantile Plot\n",
    "from statsmodels.graphics.gofplots import qqplot\n",
    "qqplot(cars['MPG'], line='s')\n",
    "plt.show()"
   ]
  },
  {
   "cell_type": "markdown",
   "metadata": {},
   "source": [
    "### Q21 b\n",
    "##### Check Whether the Adipose Tissue (AT) and Waist Circumference(Waist)  from wc-at data set  follows Normal Distribution "
   ]
  },
  {
   "cell_type": "code",
   "execution_count": 15,
   "metadata": {},
   "outputs": [
    {
     "data": {
      "image/png": "[encoded data removed]",
      "text/plain": [
       "<Figure size 432x288 with 1 Axes>"
      ]
     },
     "metadata": {
      "needs_background": "light"
     },
     "output_type": "display_data"
    },
    {
     "data": {
      "image/png": "[encoded data removed]",
      "text/plain": [
       "<Figure size 432x288 with 1 Axes>"
      ]
     },
     "metadata": {
      "needs_background": "light"
     },
     "output_type": "display_data"
    }
   ],
   "source": [
    "wc_at = pd.read_csv(r'C:\\Users\\PRANAV\\Desktop\\lms\\wc-at.csv')\n",
    "\n",
    "'''if wc_at['AT'].mean() == wc_at['AT'].median() == stats.mode(wc_at['AT']):\n",
    "    print('AT follows Normal Distribution')\n",
    "else:\n",
    "    print('AT is Not follows Normal Distribution')\n",
    "\n",
    "if wc_at['Waist'].mean() == wc_at['Waist'].median() == stats.mode(wc_at['Waist']):\n",
    "    print('\\nWaist follows Normal Distribution')\n",
    "else:\n",
    "    print('\\nWaist is Not follows Normal Distribution')\n",
    "'''\n",
    "\n",
    "# for wc_at['AT']\n",
    "# Histogram\n",
    "plt.hist(wc_at['AT'])\n",
    "plt.show()\n",
    " \n",
    "# Quantile-Quantile Plot\n",
    "from statsmodels.graphics.gofplots import qqplot\n",
    "qqplot(wc_at['AT'], line='s')\n",
    "plt.show()\n",
    "\n"
   ]
  },
  {
   "cell_type": "code",
   "execution_count": 16,
   "metadata": {},
   "outputs": [
    {
     "data": {
      "image/png": "[encoded data removed]",
      "text/plain": [
       "<Figure size 432x288 with 1 Axes>"
      ]
     },
     "metadata": {
      "needs_background": "light"
     },
     "output_type": "display_data"
    },
    {
     "data": {
      "image/png": "[encoded data removed]",
      "text/plain": [
       "<Figure size 432x288 with 1 Axes>"
      ]
     },
     "metadata": {
      "needs_background": "light"
     },
     "output_type": "display_data"
    }
   ],
   "source": [
    "# for wc_at['Waist']\n",
    "# Histogram\n",
    "plt.hist(wc_at['Waist'])\n",
    "plt.show()\n",
    " \n",
    "# Quantile-Quantile Plot\n",
    "from statsmodels.graphics.gofplots import qqplot\n",
    "qqplot(wc_at['Waist'], line='s')\n",
    "plt.show()\n"
   ]
  },
  {
   "cell_type": "markdown",
   "metadata": {},
   "source": [
    "### Q22\n",
    "#####  Calculate the Z scores of  90% confidence interval,94% confidence interval, 60% confidence interval "
   ]
  },
  {
   "cell_type": "code",
   "execution_count": 17,
   "metadata": {},
   "outputs": [
    {
     "name": "stdout",
     "output_type": "stream",
     "text": [
      "Z for 90% :  0.8289438736915182\n",
      "\n",
      "Z for 94% :  0.8339767539364704\n",
      "\n",
      "Z for 60% :  0.7881446014166034\n"
     ]
    }
   ],
   "source": [
    "print('Z for 90% : ', stats.norm.cdf(0.95))\n",
    "print('\\nZ for 94% : ', stats.norm.cdf(0.97))\n",
    "print('\\nZ for 60% : ', stats.norm.cdf(0.80))\n"
   ]
  },
  {
   "cell_type": "markdown",
   "metadata": {},
   "source": [
    "### Q23\n",
    "##### Calculate the t scores of 95% confidence interval, 96% confidence interval, 99% confidence interval for sample size of 25"
   ]
  },
  {
   "cell_type": "code",
   "execution_count": 18,
   "metadata": {},
   "outputs": [
    {
     "name": "stdout",
     "output_type": "stream",
     "text": [
      "t for 95% :  2.0638985616280205\n",
      "\n",
      "t for 96% :  2.1715446760080677\n",
      "\n",
      "t for 99% :  2.796939504772804\n"
     ]
    }
   ],
   "source": [
    "n = 25\n",
    "print('t for 95% : ', stats.t.ppf(0.975, df= n-1))\n",
    "print('\\nt for 96% : ', stats.t.ppf(0.98, df= n-1))\n",
    "print('\\nt for 99% : ', stats.t.ppf(0.995, df= n-1))"
   ]
  },
  {
   "cell_type": "markdown",
   "metadata": {},
   "source": [
    "### Q24\n",
    "##### A Government  company claims that an average light bulb lasts 270 days. A researcher randomly selects 18 bulbs for testing. The sampled bulbs last an average of 260 days, with a standard deviation of 90 days. If the CEO's claim were true, what is the probability that 18 randomly selected bulbs would have an average life of no more than 260 days"
   ]
  },
  {
   "cell_type": "code",
   "execution_count": 19,
   "metadata": {},
   "outputs": [
    {
     "name": "stdout",
     "output_type": "stream",
     "text": [
      "p: 247.27207793864216\n"
     ]
    }
   ],
   "source": [
    "s = 90\n",
    "x = 260\n",
    "n = 18\n",
    "mean = 270\n",
    "t = stats.t.cdf(0.975,df=n-1)\n",
    "print('p:', x-mean/(s/(n**0.5)))"
   ]
  },
  {
   "cell_type": "code",
   "execution_count": 20,
   "metadata": {},
   "outputs": [
    {
     "data": {
      "text/plain": [
       "0.8283844782018448"
      ]
     },
     "execution_count": 20,
     "metadata": {},
     "output_type": "execute_result"
    }
   ],
   "source": [
    "t"
   ]
  },
  {
   "cell_type": "code",
   "execution_count": null,
   "metadata": {},
   "outputs": [],
   "source": []
  }
 ],
 "metadata": {
  "kernelspec": {
   "display_name": "Python 3",
   "language": "python",
   "name": "python3"
  },
  "language_info": {
   "codemirror_mode": {
    "name": "ipython",
    "version": 3
   },
   "file_extension": ".py",
   "mimetype": "text/x-python",
   "name": "python",
   "nbconvert_exporter": "python",
   "pygments_lexer": "ipython3",
   "version": "3.7.4"
  }
 },
 "nbformat": 4,
 "nbformat_minor": 2
}
