{
 "cells": [
  {
   "cell_type": "markdown",
   "metadata": {},
   "source": [
    "# Assignment 3"
   ]
  },
  {
   "cell_type": "markdown",
   "metadata": {},
   "source": [
    "## Q.1) "
   ]
  },
  {
   "cell_type": "code",
   "execution_count": 1,
   "metadata": {},
   "outputs": [
    {
     "name": "stderr",
     "output_type": "stream",
     "text": [
      "C:\\Users\\PRANAV\\Anaconda3\\lib\\site-packages\\statsmodels\\tools\\_testing.py:19: FutureWarning: pandas.util.testing is deprecated. Use the functions in the public API at pandas.testing instead.\n",
      "  import pandas.util.testing as tm\n"
     ]
    }
   ],
   "source": [
    "import pandas as pd\n",
    "import numpy as np\n",
    "import seaborn as sns\n",
    "from scipy import stats"
   ]
  },
  {
   "cell_type": "code",
   "execution_count": 2,
   "metadata": {},
   "outputs": [],
   "source": [
    "cutlets = pd.read_csv(r'C:\\Users\\PRANAV\\Desktop\\lms\\Hypothesis testing\\Cutlets.csv')\n",
    "unit_a = cutlets['Unit A']\n",
    "unit_b = cutlets['Unit B']"
   ]
  },
  {
   "cell_type": "code",
   "execution_count": 3,
   "metadata": {},
   "outputs": [
    {
     "name": "stdout",
     "output_type": "stream",
     "text": [
      "Accept Null Hypothesis, P value:  0.4722394724599501\n"
     ]
    }
   ],
   "source": [
    "t = stats.ttest_ind(unit_a , unit_b)\n",
    "p = t[1]\n",
    "if p > 0.05:\n",
    "    print('Accept Null Hypothesis, P value: ',p)\n",
    "else:\n",
    "    print('Go for Alternative Hypothesis, P value: ', p)"
   ]
  },
  {
   "cell_type": "markdown",
   "metadata": {},
   "source": [
    "## Q.2)"
   ]
  },
  {
   "cell_type": "code",
   "execution_count": 4,
   "metadata": {},
   "outputs": [],
   "source": [
    "lab = pd.read_csv(r'C:\\Users\\PRANAV\\Desktop\\lms\\Hypothesis testing\\LabTAT.csv')"
   ]
  },
  {
   "cell_type": "code",
   "execution_count": 5,
   "metadata": {},
   "outputs": [
    {
     "name": "stdout",
     "output_type": "stream",
     "text": [
      "Accept Null Hypothesis, P value:  0.10686741658107135\n"
     ]
    }
   ],
   "source": [
    "w,pvalue = stats.bartlett(lab['Laboratory 1'],lab['Laboratory 2'],lab['Laboratory 3'],lab['Laboratory 4'])\n",
    "\n",
    "if pvalue > 0.05:\n",
    "    print('Accept Null Hypothesis, P value: ',pvalue)\n",
    "else:\n",
    "    print('Go for Alternative Hypothesis, P value: ', pvalue)"
   ]
  },
  {
   "cell_type": "markdown",
   "metadata": {},
   "source": [
    "## Q.3)"
   ]
  },
  {
   "cell_type": "code",
   "execution_count": 6,
   "metadata": {},
   "outputs": [
    {
     "data": {
      "text/html": [
       "<div>\n",
       "<style scoped>\n",
       "    .dataframe tbody tr th:only-of-type {\n",
       "        vertical-align: middle;\n",
       "    }\n",
       "\n",
       "    .dataframe tbody tr th {\n",
       "        vertical-align: top;\n",
       "    }\n",
       "\n",
       "    .dataframe thead th {\n",
       "        text-align: right;\n",
       "    }\n",
       "</style>\n",
       "<table border=\"1\" class=\"dataframe\">\n",
       "  <thead>\n",
       "    <tr style=\"text-align: right;\">\n",
       "      <th></th>\n",
       "      <th>Observed Values</th>\n",
       "      <th>Males</th>\n",
       "      <th>Females</th>\n",
       "    </tr>\n",
       "  </thead>\n",
       "  <tbody>\n",
       "    <tr>\n",
       "      <th>0</th>\n",
       "      <td>East</td>\n",
       "      <td>50</td>\n",
       "      <td>435</td>\n",
       "    </tr>\n",
       "    <tr>\n",
       "      <th>1</th>\n",
       "      <td>West</td>\n",
       "      <td>142</td>\n",
       "      <td>1523</td>\n",
       "    </tr>\n",
       "    <tr>\n",
       "      <th>2</th>\n",
       "      <td>North</td>\n",
       "      <td>131</td>\n",
       "      <td>1356</td>\n",
       "    </tr>\n",
       "    <tr>\n",
       "      <th>3</th>\n",
       "      <td>South</td>\n",
       "      <td>70</td>\n",
       "      <td>750</td>\n",
       "    </tr>\n",
       "  </tbody>\n",
       "</table>\n",
       "</div>"
      ],
      "text/plain": [
       "  Observed Values  Males  Females\n",
       "0            East     50      435\n",
       "1            West    142     1523\n",
       "2           North    131     1356\n",
       "3           South     70      750"
      ]
     },
     "execution_count": 6,
     "metadata": {},
     "output_type": "execute_result"
    }
   ],
   "source": [
    "buy = pd.read_csv(r'C:\\Users\\PRANAV\\Desktop\\lms\\Hypothesis testing\\BuyerRatio.csv')\n",
    "buy"
   ]
  },
  {
   "cell_type": "code",
   "execution_count": 7,
   "metadata": {},
   "outputs": [],
   "source": [
    "male = buy['Males']\n",
    "female =  buy ['Females']"
   ]
  },
  {
   "cell_type": "code",
   "execution_count": 8,
   "metadata": {},
   "outputs": [
    {
     "name": "stdout",
     "output_type": "stream",
     "text": [
      "Go for Alternative Hypothesis, P value:  0.011594334372357056\n"
     ]
    }
   ],
   "source": [
    "t = stats.ttest_ind(male , female)\n",
    "p_2 = t[1]\n",
    "if p_2 > 0.05:\n",
    "    print('Accept Null Hypothesis, P value: ',p_2)\n",
    "else:\n",
    "    print('Go for Alternative Hypothesis, P value: ', p_2)"
   ]
  },
  {
   "cell_type": "markdown",
   "metadata": {},
   "source": [
    "## Q.4)"
   ]
  },
  {
   "cell_type": "markdown",
   "metadata": {},
   "source": [
    "### a)"
   ]
  },
  {
   "cell_type": "code",
   "execution_count": 9,
   "metadata": {},
   "outputs": [],
   "source": [
    "from scipy.stats import chi2_contingency\n",
    "from scipy.stats import chi2"
   ]
  },
  {
   "cell_type": "code",
   "execution_count": 10,
   "metadata": {},
   "outputs": [],
   "source": [
    "dataset = pd.read_csv(r'C:\\Users\\PRANAV\\Desktop\\lms\\Hypothesis testing\\Costomer+OrderForm.csv')\n",
    "df = dataset.replace(('Error Free' , 'Defective'),(1.0))\n",
    "row = df['India'].count()\n",
    "col = len(df.columns)"
   ]
  },
  {
   "cell_type": "code",
   "execution_count": 11,
   "metadata": {},
   "outputs": [
    {
     "data": {
      "text/plain": [
       "1.0"
      ]
     },
     "execution_count": 11,
     "metadata": {},
     "output_type": "execute_result"
    }
   ],
   "source": [
    "dof = (row-1)*(col-1)\n",
    "stat , p, dof , expected1 = chi2_contingency(df)\n",
    "chi3 = stats.chi2_contingency(df)\n",
    "chi3_pvalues = chi3[1]\n",
    "chi3_pvalues"
   ]
  },
  {
   "cell_type": "markdown",
   "metadata": {},
   "source": [
    "### b)"
   ]
  },
  {
   "cell_type": "code",
   "execution_count": 12,
   "metadata": {},
   "outputs": [],
   "source": [
    "import statsmodels.api as sm\n",
    "customer = pd.read_csv(r'C:\\Users\\PRANAV\\Desktop\\lms\\Hypothesis testing\\Faltoons.csv')\n",
    "n1 = len('Weekdays')\n",
    "n2 = len('Weekend')\n",
    "p1 = 0.39\n",
    "p2 = 0.71"
   ]
  },
  {
   "cell_type": "code",
   "execution_count": 13,
   "metadata": {},
   "outputs": [
    {
     "name": "stdout",
     "output_type": "stream",
     "text": [
      "Accept Null Hypothesis, P value:  0.2336881716050228\n"
     ]
    }
   ],
   "source": [
    "pop1 = np.random.binomial(1, p1 , n1)\n",
    "pop2 = np.random.binomial(1, p2, n2)\n",
    "t = sm.stats.ttest_ind(pop1,pop2)\n",
    "p_1  = t[1]\n",
    "if p_1 > 0.05:\n",
    "    print('Accept Null Hypothesis, P value: ',p_1)\n",
    "else:\n",
    "    print('Go for Alternative Hypothesis, P value: ', p_1)"
   ]
  }
 ],
 "metadata": {
  "kernelspec": {
   "display_name": "Python 3",
   "language": "python",
   "name": "python3"
  },
  "language_info": {
   "codemirror_mode": {
    "name": "ipython",
    "version": 3
   },
   "file_extension": ".py",
   "mimetype": "text/x-python",
   "name": "python",
   "nbconvert_exporter": "python",
   "pygments_lexer": "ipython3",
   "version": "3.7.4"
  }
 },
 "nbformat": 4,
 "nbformat_minor": 4
}
